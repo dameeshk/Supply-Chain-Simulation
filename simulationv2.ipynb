{
 "cells": [
  {
   "metadata": {},
   "cell_type": "markdown",
   "source": "Import Dependencies"
  },
  {
   "metadata": {
    "ExecuteTime": {
     "end_time": "2025-06-17T19:36:51.764716200Z",
     "start_time": "2025-06-17T19:36:51.751049700Z"
    }
   },
   "cell_type": "code",
   "source": [
    "import kotlin.math.*\n",
    "import kotlin.random.Random\n",
    "import kotlin.math.abs\n",
    "import kotlin.math.ceil"
   ],
   "outputs": [],
   "execution_count": 60
  },
  {
   "metadata": {},
   "cell_type": "markdown",
   "source": "Generate Original Forcast"
  },
  {
   "metadata": {
    "collapsed": true,
    "ExecuteTime": {
     "end_time": "2025-06-17T19:36:53.081901Z",
     "start_time": "2025-06-17T19:36:53.059580800Z"
    }
   },
   "cell_type": "code",
   "source": [
    "val forecast = listOf(32.83, 26.12, 23.48, 22.57, 23.14, 24.68, 26.13, 28.89, 23.35, 20.99, 20.18, 20.68, 22.04, 23.30)\n",
    "println(\"Original forecast: $forecast\")\n",
    "println(\"Number of days: ${forecast.size}\")"
   ],
   "outputs": [
    {
     "name": "stdout",
     "output_type": "stream",
     "text": [
      "Original forecast: [32.83, 26.12, 23.48, 22.57, 23.14, 24.68, 26.13, 28.89, 23.35, 20.99, 20.18, 20.68, 22.04, 23.3]\r\n",
      "Number of days: 14\r\n"
     ]
    }
   ],
   "execution_count": 61
  },
  {
   "metadata": {},
   "cell_type": "markdown",
   "source": "Takes one input (losing threshold), uses Knuth Algorithm"
  },
  {
   "metadata": {
    "ExecuteTime": {
     "end_time": "2025-06-17T19:38:42.529681400Z",
     "start_time": "2025-06-17T19:38:42.496285200Z"
    }
   },
   "cell_type": "code",
   "source": [
    "// Test the Poisson function\n",
    "fun generatePoisson(forecast: List<Double>): Any {\n",
    "    return forecast.map { lambda ->\n",
    "        val L = exp(-lambda)\n",
    "        var k = 0\n",
    "        var p = 1.0\n",
    "\n",
    "        do {\n",
    "            k++\n",
    "            p *= Random.nextDouble()\n",
    "        } while (p > L)\n",
    "\n",
    "        return k - 1\n",
    "    }\n",
    "}\n",
    "\n",
    "val forecast = listOf(32.83,26.12,23.48,22.57,23.14,24.68,26.13,28.89,23.35,20.99,20.18,20.68,22.04,23.30)\n",
    "val result = generatePoisson(listOf(5.0))\n",
    "println(\"Poisson test result: $result\")"
   ],
   "outputs": [
    {
     "name": "stdout",
     "output_type": "stream",
     "text": [
      "Poisson test result: 5\r\n"
     ]
    }
   ],
   "execution_count": 72
  },
  {
   "metadata": {},
   "cell_type": "markdown",
   "source": [
    "- Simulate runs the forecast instead of single number.\n",
    "- Generate binomial flips a coin but with a bias. Forecast values must always be greater than number of trials\n",
    "- Simulate binomial does the same but with every number in forecast"
   ]
  },
  {
   "metadata": {},
   "cell_type": "code",
   "source": [
    "// Test the complete simulation functions\n",
    "fun simulatePoissonDemand(forecast: List<Double>): List<Int> {\n",
    "    return forecast.map { lambda ->\n",
    "        generatePoisson(lambda.toDouble())\n",
    "    }\n",
    "}\n",
    "\n",
    "fun generateBinomial(n: Int, p: Double): Int {\n",
    "    var count = 0\n",
    "    repeat(n) {\n",
    "        if (Random.nextDouble() < p) {\n",
    "            count++\n",
    "        }\n",
    "    }\n",
    "    return count\n",
    "}\n",
    "\n",
    "fun simulateBinomialDemand(forecast: List<Double>, trials: Int = 50): List<Int> {\n",
    "    return forecast.map { f ->\n",
    "        val probability = minOf(f.toDouble() / trials, 1.0)\n",
    "        generateBinomial(trials, probability)\n",
    "    }\n",
    "}\n",
    "\n",
    "// Test them\n",
    "val forecast = listOf(32.83, 26.12, 23.48, 22.57, 23.14, 24.68, 26.13, 28.89, 23.35, 20.99, 20.18, 20.68, 22.04, 23.30)\n",
    "\n",
    "val poissonResult = simulatePoissonDemand(forecast)\n",
    "println(\"Poisson simulation results:\")\n",
    "println(\"Forecast: $forecast\")\n",
    "println(\"Poisson:  $poissonResult\")\n",
    "\n",
    "val binomialResult = simulateBinomialDemand(forecast, trials = 50)\n",
    "println(\"\\nBinomial simulation results:\")\n",
    "println(\"Forecast: $forecast\")\n",
    "println(\"Binomial: $binomialResult\")"
   ],
   "outputs": [],
   "execution_count": null
  },
  {
   "metadata": {},
   "cell_type": "code",
   "source": [
    "fun compareSimulations(forecast: List<Double>, trials: Int = 50, numRuns: Int = 3) {\n",
    "    println(\"\\nComparing Poisson vs Binomial simulations ($numRuns runs):\")\n",
    "    println(\"Forecast: $forecast\")\n",
    "    println(\"-\".repeat(80))\n",
    "\n",
    "    repeat(numRuns) { run ->\n",
    "        val poissonResult = simulatePoissonDemand(forecast)\n",
    "        val binomialResult = simulateBinomialDemand(forecast, trials)\n",
    "\n",
    "        println(\"Run ${run + 1}:\")\n",
    "        println(\"  Poisson:  $poissonResult\")\n",
    "        println(\"  Binomial: $binomialResult\")\n",
    "        println()\n",
    "    }\n",
    "}\n",
    "\n",
    "// Test it\n",
    "val forecast = listOf(32.83, 26.12, 23.48, 22.57, 23.14, 24.68, 26.13, 28.89, 23.35, 20.99, 20.18, 20.68, 22.04, 23.30)\n",
    "compareSimulations(forecast, trials = 50, numRuns = 3)"
   ],
   "outputs": [],
   "execution_count": null
  },
  {
   "metadata": {},
   "cell_type": "code",
   "source": [
    "// Extension function for standard deviation (needed for analysis)\n",
    "fun List<Int>.standardDeviation(): Double {\n",
    "    val mean = this.average()\n",
    "    val variance = this.map { (it - mean) * (it - mean) }.average()\n",
    "    return kotlin.math.sqrt(variance)\n",
    "}\n",
    "\n",
    "// Lighter analysis function (fewer runs for notebook)\n",
    "fun lightAnalyzeSimulations(forecast: List<Double>, trials: Int = 10, numRuns: Int = 100) {\n",
    "    println(\"\\nLight Statistical Analysis ($numRuns runs):\")\n",
    "    println(\"=\".repeat(50))\n",
    "\n",
    "    // Store results\n",
    "    val poissonErrors = mutableListOf<Double>()\n",
    "    val binomialErrors = mutableListOf<Double>()\n",
    "    val poissonTotals = mutableListOf<Int>()\n",
    "    val binomialTotals = mutableListOf<Int>()\n",
    "\n",
    "    // Run simulations\n",
    "    repeat(numRuns) {\n",
    "        val poissonResult = simulatePoissonDemand(forecast)\n",
    "        val binomialResult = simulateBinomialDemand(forecast, trials)\n",
    "\n",
    "        // Calculate errors\n",
    "        val poissonError = poissonResult.zip(forecast) { p, f -> kotlin.math.abs(p - f) }.sum()\n",
    "        val binomialError = binomialResult.zip(forecast) { b, f -> kotlin.math.abs(b - f) }.sum()\n",
    "\n",
    "        poissonErrors.add(poissonError)\n",
    "        binomialErrors.add(binomialError)\n",
    "        poissonTotals.add(poissonResult.sum())\n",
    "        binomialTotals.add(binomialResult.sum())\n",
    "    }\n",
    "\n",
    "    // Calculate and display results\n",
    "    val forecastTotal = forecast.sum()\n",
    "\n",
    "    println(\"Original forecast total: $forecastTotal\")\n",
    "    println()\n",
    "\n",
    "    println(\"POISSON RESULTS:\")\n",
    "    println(\"  Average total demand: ${\"%.2f\".format(poissonTotals.average())}\")\n",
    "    println(\"  Average absolute error: ${\"%.2f\".format(poissonErrors.average())}\")\n",
    "\n",
    "    println()\n",
    "\n",
    "    println(\"BINOMIAL RESULTS:\")\n",
    "    println(\"  Average total demand: ${\"%.2f\".format(binomialTotals.average())}\")\n",
    "    println(\"  Average absolute error: ${\"%.2f\".format(binomialErrors.average())}\")\n",
    "\n",
    "    println()\n",
    "\n",
    "    // Comparison\n",
    "    val binomialBetter = poissonErrors.zip(binomialErrors) { p, b -> b < p }.count { it }\n",
    "    val poissonBetter = numRuns - binomialBetter\n",
    "\n",
    "    println(\"COMPARISON:\")\n",
    "    println(\"  Binomial more accurate: $binomialBetter/$numRuns times (${\"%.1f\".format(binomialBetter.toDouble() / numRuns * 100)}%)\")\n",
    "    println(\"  Poisson more accurate: $poissonBetter/$numRuns times (${\"%.1f\".format(poissonBetter.toDouble() / numRuns * 100)}%)\")\n",
    "\n",
    "    if (poissonErrors.average() < binomialErrors.average()) {\n",
    "        println(\"  Winner: Poisson (lower average error)\")\n",
    "    } else {\n",
    "        println(\"  Winner: Binomial (lower average error)\")\n",
    "    }\n",
    "}\n",
    "\n",
    "// Test the analysis\n",
    "val forecast = listOf(32.83,26.12,23.48,22.57,23.14,24.68,26.13,28.89,23.35,20.99,20.18,20.68,22.04,23.30)\n",
    "lightAnalyzeSimulations(forecast, trials = 100, numRuns = 100)"
   ],
   "outputs": [],
   "execution_count": null
  }
 ],
 "metadata": {
  "kernelspec": {
   "display_name": "Kotlin",
   "language": "kotlin",
   "name": "kotlin"
  },
  "language_info": {
   "name": "kotlin",
   "version": "1.9.23",
   "mimetype": "text/x-kotlin",
   "file_extension": ".kt",
   "pygments_lexer": "kotlin",
   "codemirror_mode": "text/x-kotlin",
   "nbconvert_exporter": ""
  }
 },
 "nbformat": 4,
 "nbformat_minor": 0
}
