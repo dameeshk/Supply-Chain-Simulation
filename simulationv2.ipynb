{
 "cells": [
  {
   "metadata": {},
   "cell_type": "markdown",
   "source": "Import Dependencies"
  },
  {
   "metadata": {
    "ExecuteTime": {
     "end_time": "2025-06-17T19:21:26.035212900Z",
     "start_time": "2025-06-17T19:21:26.021335100Z"
    }
   },
   "cell_type": "code",
   "source": [
    "import kotlin.math.*\n",
    "import kotlin.random.Random\n",
    "import kotlin.math.abs\n",
    "import kotlin.math.ceil"
   ],
   "outputs": [],
   "execution_count": 45
  },
  {
   "metadata": {},
   "cell_type": "markdown",
   "source": "Generate Original Forcast"
  },
  {
   "metadata": {
    "collapsed": true,
    "ExecuteTime": {
     "end_time": "2025-06-17T19:21:27.810321100Z",
     "start_time": "2025-06-17T19:21:27.784338Z"
    }
   },
   "cell_type": "code",
   "source": [
    "val forecast = listOf(32.83, 26.12, 23.48, 22.57, 23.14, 24.68, 26.13, 28.89, 23.35, 20.99, 20.18, 20.68, 22.04, 23.30)\n",
    "println(\"Original forecast: $forecast\")\n",
    "println(\"Number of days: ${forecast.size}\")"
   ],
   "outputs": [
    {
     "name": "stdout",
     "output_type": "stream",
     "text": [
      "Original forecast: [32.83, 26.12, 23.48, 22.57, 23.14, 24.68, 26.13, 28.89, 23.35, 20.99, 20.18, 20.68, 22.04, 23.3]\r\n",
      "Number of days: 14\r\n"
     ]
    }
   ],
   "execution_count": 46
  },
  {
   "metadata": {},
   "cell_type": "markdown",
   "source": "Takes one input (losing threshold), uses Knuth Algorithm"
  },
  {
   "metadata": {
    "ExecuteTime": {
     "end_time": "2025-06-17T19:21:29.659827500Z",
     "start_time": "2025-06-17T19:21:29.623797100Z"
    }
   },
   "cell_type": "code",
   "source": [
    "// Test the Poisson function\n",
    "fun generatePoisson(forecast: List<Double>): Any {\n",
    "    return forecast.map { lambda ->\n",
    "        val L = exp(-lambda)\n",
    "        var k = 0\n",
    "        var p = 1.0\n",
    "\n",
    "        do {\n",
    "            k++\n",
    "            p *= Random.nextDouble()\n",
    "        } while (p > L)\n",
    "\n",
    "        return k - 1\n",
    "    }\n",
    "}\n",
    "\n",
    "val forecast = listOf(32.83,26.12,23.48,22.57,23.14,24.68,26.13,28.89,23.35,20.99,20.18,20.68,22.04,23.30)\n",
    "val result = generatePoisson(5.0)\n",
    "println(\"Poisson test result: $result\")"
   ],
   "outputs": [
    {
     "name": "stdout",
     "output_type": "stream",
     "text": [
      "Poisson test result: 7\r\n"
     ]
    }
   ],
   "execution_count": 47
  },
  {
   "metadata": {},
   "cell_type": "markdown",
   "source": [
    "- Simulate runs the forecast instead of single number.\n",
    "- Generate binomial flips a coin but with a bias. Forecast values must always be greater than number of trials\n",
    "- Simulate binomial does the same but with every number in forecast"
   ]
  },
  {
   "metadata": {
    "ExecuteTime": {
     "end_time": "2025-06-17T19:21:32.138884600Z",
     "start_time": "2025-06-17T19:21:32.084778900Z"
    }
   },
   "cell_type": "code",
   "source": [
    "// Test the complete simulation functions\n",
    "fun simulatePoissonDemand(forecast: List<Double>): List<Int> {\n",
    "    return forecast.map { lambda ->\n",
    "        generatePoisson(lambda.toDouble())\n",
    "    }\n",
    "}\n",
    "\n",
    "fun generateBinomial(n: Int, p: Double): Int {\n",
    "    var count = 0\n",
    "    repeat(n) {\n",
    "        if (Random.nextDouble() < p) {\n",
    "            count++\n",
    "        }\n",
    "    }\n",
    "    return count\n",
    "}\n",
    "\n",
    "fun simulateBinomialDemand(forecast: List<Double>, trials: Int = 50): List<Int> {\n",
    "    return forecast.map { f ->\n",
    "        val probability = minOf(f.toDouble() / trials, 1.0)\n",
    "        generateBinomial(trials, probability)\n",
    "    }\n",
    "}\n",
    "\n",
    "// Test them\n",
    "val forecast = listOf(32.83, 26.12, 23.48, 22.57, 23.14, 24.68, 26.13, 28.89, 23.35, 20.99, 20.18, 20.68, 22.04, 23.30)\n",
    "\n",
    "val poissonResult = simulatePoissonDemand(forecast)\n",
    "println(\"Poisson simulation results:\")\n",
    "println(\"Forecast: $forecast\")\n",
    "println(\"Poisson:  $poissonResult\")\n",
    "\n",
    "val binomialResult = simulateBinomialDemand(forecast, trials = 50)\n",
    "println(\"\\nBinomial simulation results:\")\n",
    "println(\"Forecast: $forecast\")\n",
    "println(\"Binomial: $binomialResult\")"
   ],
   "outputs": [
    {
     "name": "stdout",
     "output_type": "stream",
     "text": [
      "Poisson simulation results:\r\n",
      "Forecast: [32.83, 26.12, 23.48, 22.57, 23.14, 24.68, 26.13, 28.89, 23.35, 20.99, 20.18, 20.68, 22.04, 23.3]\r\n",
      "Poisson:  [33, 26, 23, 22, 19, 24, 26, 19, 23, 21, 17, 20, 20, 25]\r\n",
      "\n",
      "Binomial simulation results:\r\n",
      "Forecast: [32.83, 26.12, 23.48, 22.57, 23.14, 24.68, 26.13, 28.89, 23.35, 20.99, 20.18, 20.68, 22.04, 23.3]\r\n",
      "Binomial: [36, 19, 23, 25, 13, 28, 28, 21, 19, 25, 22, 15, 28, 20]\r\n"
     ]
    }
   ],
   "execution_count": 48
  },
  {
   "metadata": {
    "ExecuteTime": {
     "end_time": "2025-06-17T19:23:26.408214500Z",
     "start_time": "2025-06-17T19:23:26.369095300Z"
    }
   },
   "cell_type": "code",
   "source": [
    "fun compareSimulations(forecast: List<Double>, trials: Int = 50, numRuns: Int = 3) {\n",
    "    println(\"\\nComparing Poisson vs Binomial simulations ($numRuns runs):\")\n",
    "    println(\"Forecast: $forecast\")\n",
    "    println(\"-\".repeat(80))\n",
    "\n",
    "    repeat(numRuns) { run ->\n",
    "        val poissonResult = simulatePoissonDemand(forecast)\n",
    "        val binomialResult = simulateBinomialDemand(forecast, trials)\n",
    "\n",
    "        println(\"Run ${run + 1}:\")\n",
    "        println(\"  Poisson:  $poissonResult\")\n",
    "        println(\"  Binomial: $binomialResult\")\n",
    "        println()\n",
    "    }\n",
    "}\n",
    "\n",
    "// Test it\n",
    "val forecast = listOf(32.83, 26.12, 23.48, 22.57, 23.14, 24.68, 26.13, 28.89, 23.35, 20.99, 20.18, 20.68, 22.04, 23.30)\n",
    "compareSimulations(forecast, trials = 50, numRuns = 3)"
   ],
   "outputs": [
    {
     "name": "stdout",
     "output_type": "stream",
     "text": [
      "\n",
      "Comparing Poisson vs Binomial simulations (3 runs):\r\n",
      "Forecast: [32.83, 26.12, 23.48, 22.57, 23.14, 24.68, 26.13, 28.89, 23.35, 20.99, 20.18, 20.68, 22.04, 23.3]\r\n",
      "--------------------------------------------------------------------------------\r\n",
      "Run 1:\r\n",
      "  Poisson:  [40, 30, 20, 18, 33, 26, 24, 37, 20, 28, 10, 24, 16, 23]\r\n",
      "  Binomial: [33, 21, 15, 18, 20, 27, 23, 26, 25, 16, 23, 23, 19, 22]\r\n",
      "\r\n",
      "Run 2:\r\n",
      "  Poisson:  [29, 30, 28, 22, 16, 31, 21, 39, 33, 29, 22, 14, 16, 24]\r\n",
      "  Binomial: [34, 29, 26, 24, 22, 26, 30, 34, 25, 18, 22, 20, 20, 29]\r\n",
      "\r\n",
      "Run 3:\r\n",
      "  Poisson:  [26, 14, 26, 29, 24, 23, 19, 21, 19, 23, 21, 22, 19, 17]\r\n",
      "  Binomial: [36, 28, 23, 25, 29, 20, 28, 34, 24, 19, 15, 21, 25, 27]\r\n",
      "\r\n"
     ]
    }
   ],
   "execution_count": 51
  },
  {
   "metadata": {
    "ExecuteTime": {
     "end_time": "2025-06-17T19:26:16.809752Z",
     "start_time": "2025-06-17T19:26:16.718477700Z"
    }
   },
   "cell_type": "code",
   "source": [
    "// Extension function for standard deviation (needed for analysis)\n",
    "fun List<Int>.standardDeviation(): Double {\n",
    "    val mean = this.average()\n",
    "    val variance = this.map { (it - mean) * (it - mean) }.average()\n",
    "    return kotlin.math.sqrt(variance)\n",
    "}\n",
    "\n",
    "// Lighter analysis function (fewer runs for notebook)\n",
    "fun lightAnalyzeSimulations(forecast: List<Double>, trials: Int = 10, numRuns: Int = 100) {\n",
    "    println(\"\\nLight Statistical Analysis ($numRuns runs):\")\n",
    "    println(\"=\".repeat(50))\n",
    "\n",
    "    // Store results\n",
    "    val poissonErrors = mutableListOf<Double>()\n",
    "    val binomialErrors = mutableListOf<Double>()\n",
    "    val poissonTotals = mutableListOf<Int>()\n",
    "    val binomialTotals = mutableListOf<Int>()\n",
    "\n",
    "    // Run simulations\n",
    "    repeat(numRuns) {\n",
    "        val poissonResult = simulatePoissonDemand(forecast)\n",
    "        val binomialResult = simulateBinomialDemand(forecast, trials)\n",
    "\n",
    "        // Calculate errors\n",
    "        val poissonError = poissonResult.zip(forecast) { p, f -> kotlin.math.abs(p - f) }.sum()\n",
    "        val binomialError = binomialResult.zip(forecast) { b, f -> kotlin.math.abs(b - f) }.sum()\n",
    "\n",
    "        poissonErrors.add(poissonError)\n",
    "        binomialErrors.add(binomialError)\n",
    "        poissonTotals.add(poissonResult.sum())\n",
    "        binomialTotals.add(binomialResult.sum())\n",
    "    }\n",
    "\n",
    "    // Calculate and display results\n",
    "    val forecastTotal = forecast.sum()\n",
    "\n",
    "    println(\"Original forecast total: $forecastTotal\")\n",
    "    println()\n",
    "\n",
    "    println(\"POISSON RESULTS:\")\n",
    "    println(\"  Average total demand: ${\"%.2f\".format(poissonTotals.average())}\")\n",
    "    println(\"  Average absolute error: ${\"%.2f\".format(poissonErrors.average())}\")\n",
    "\n",
    "    println()\n",
    "\n",
    "    println(\"BINOMIAL RESULTS:\")\n",
    "    println(\"  Average total demand: ${\"%.2f\".format(binomialTotals.average())}\")\n",
    "    println(\"  Average absolute error: ${\"%.2f\".format(binomialErrors.average())}\")\n",
    "\n",
    "    println()\n",
    "\n",
    "    // Comparison\n",
    "    val binomialBetter = poissonErrors.zip(binomialErrors) { p, b -> b < p }.count { it }\n",
    "    val poissonBetter = numRuns - binomialBetter\n",
    "\n",
    "    println(\"COMPARISON:\")\n",
    "    println(\"  Binomial more accurate: $binomialBetter/$numRuns times (${\"%.1f\".format(binomialBetter.toDouble() / numRuns * 100)}%)\")\n",
    "    println(\"  Poisson more accurate: $poissonBetter/$numRuns times (${\"%.1f\".format(poissonBetter.toDouble() / numRuns * 100)}%)\")\n",
    "\n",
    "    if (poissonErrors.average() < binomialErrors.average()) {\n",
    "        println(\"  Winner: Poisson (lower average error)\")\n",
    "    } else {\n",
    "        println(\"  Winner: Binomial (lower average error)\")\n",
    "    }\n",
    "}\n",
    "\n",
    "// Test the analysis\n",
    "val forecast = listOf(32.83,26.12,23.48,22.57,23.14,24.68,26.13,28.89,23.35,20.99,20.18,20.68,22.04,23.30)\n",
    "lightAnalyzeSimulations(forecast, trials = 100, numRuns = 100)"
   ],
   "outputs": [
    {
     "name": "stdout",
     "output_type": "stream",
     "text": [
      "\n",
      "Light Statistical Analysis (100 runs):\r\n",
      "==================================================\r\n",
      "Original forecast total: 338.38\r\n",
      "\r\n",
      "POISSON RESULTS:\r\n",
      "  Average total demand: 337.36\r\n",
      "  Average absolute error: 53.70\r\n",
      "\r\n",
      "BINOMIAL RESULTS:\r\n",
      "  Average total demand: 342.56\r\n",
      "  Average absolute error: 47.20\r\n",
      "\r\n",
      "COMPARISON:\r\n",
      "  Binomial more accurate: 72/100 times (72.0%)\r\n",
      "  Poisson more accurate: 28/100 times (28.0%)\r\n",
      "  Winner: Binomial (lower average error)\r\n"
     ]
    }
   ],
   "execution_count": 59
  }
 ],
 "metadata": {
  "kernelspec": {
   "display_name": "Kotlin",
   "language": "kotlin",
   "name": "kotlin"
  },
  "language_info": {
   "name": "kotlin",
   "version": "1.9.23",
   "mimetype": "text/x-kotlin",
   "file_extension": ".kt",
   "pygments_lexer": "kotlin",
   "codemirror_mode": "text/x-kotlin",
   "nbconvert_exporter": ""
  }
 },
 "nbformat": 4,
 "nbformat_minor": 0
}
