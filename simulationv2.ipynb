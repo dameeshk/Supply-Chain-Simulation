{
 "cells": [
  {
   "metadata": {},
   "cell_type": "markdown",
   "source": "Import Dependencies"
  },
  {
   "metadata": {
    "ExecuteTime": {
     "end_time": "2025-06-17T19:36:51.764716200Z",
     "start_time": "2025-06-17T19:36:51.751049700Z"
    }
   },
   "cell_type": "code",
   "source": [
    "import kotlin.math.*\n",
    "import kotlin.random.Random\n",
    "import kotlin.math.abs\n",
    "import kotlin.math.ceil"
   ],
   "outputs": [],
   "execution_count": 60
  },
  {
   "metadata": {},
   "cell_type": "markdown",
   "source": "Generate Original Forcast"
  },
  {
   "metadata": {
    "collapsed": true,
    "ExecuteTime": {
     "end_time": "2025-06-17T19:36:53.081901Z",
     "start_time": "2025-06-17T19:36:53.059580800Z"
    }
   },
   "cell_type": "code",
   "source": [
    "val forecast = listOf(32.83, 26.12, 23.48, 22.57, 23.14, 24.68, 26.13, 28.89, 23.35, 20.99, 20.18, 20.68, 22.04, 23.30)\n",
    "println(\"Original forecast: $forecast\")\n",
    "println(\"Number of days: ${forecast.size}\")"
   ],
   "outputs": [
    {
     "name": "stdout",
     "output_type": "stream",
     "text": [
      "Original forecast: [32.83, 26.12, 23.48, 22.57, 23.14, 24.68, 26.13, 28.89, 23.35, 20.99, 20.18, 20.68, 22.04, 23.3]\r\n",
      "Number of days: 14\r\n"
     ]
    }
   ],
   "execution_count": 61
  },
  {
   "metadata": {},
   "cell_type": "markdown",
   "source": "Takes one input (losing threshold), uses Knuth Algorithm"
  },
  {
   "metadata": {
    "ExecuteTime": {
     "end_time": "2025-06-17T20:02:41.342395300Z",
     "start_time": "2025-06-17T20:02:41.306717600Z"
    }
   },
   "cell_type": "code",
   "source": [
    "// Test the Poisson function\n",
    "fun generatePoisson(forecast: List<Double>): List<Int> {\n",
    "    return forecast.map { lambda ->\n",
    "        val L = exp(-lambda)\n",
    "        var k = 0\n",
    "        var p = 1.0\n",
    "\n",
    "        do {\n",
    "            k++\n",
    "            p *= Random.nextDouble()\n",
    "        } while (p > L)\n",
    "         k - 1\n",
    "    }\n",
    "}\n",
    "\n",
    "val forecast = listOf(32.83,26.12,23.48,22.57,23.14,24.68,26.13,28.89,23.35,20.99,20.18,20.68,22.04,23.30)\n",
    "val result = generatePoisson(listOf(5.0))\n",
    "println(\"Poisson test result: $result\")"
   ],
   "outputs": [
    {
     "name": "stdout",
     "output_type": "stream",
     "text": [
      "Poisson test result: [5]\r\n"
     ]
    }
   ],
   "execution_count": 89
  },
  {
   "metadata": {},
   "cell_type": "markdown",
   "source": [
    "- Simulate runs the forecast instead of single number.\n",
    "- Generate binomial flips a coin but with a bias. Forecast values must always be greater than number of trials\n",
    "- Simulate binomial does the same but with every number in forecast"
   ]
  },
  {
   "metadata": {
    "ExecuteTime": {
     "end_time": "2025-06-17T20:05:11.606791400Z",
     "start_time": "2025-06-17T20:05:11.554408300Z"
    }
   },
   "cell_type": "code",
   "source": [
    "// Test the complete simulation functions\n",
    "fun simulatePoissonDemand(forecast: List<Double>): List<Int> {\n",
    "    return forecast.map { lambda ->\n",
    "        generatePoisson(lambda.toDouble())\n",
    "    }\n",
    "}\n",
    "\n",
    "fun generateBinomial(n: Int, p: Double): Int {\n",
    "    var count = 0\n",
    "    repeat(n) {\n",
    "        if (Random.nextDouble() < p) {\n",
    "            count++\n",
    "        }\n",
    "    }\n",
    "    return count\n",
    "}\n",
    "\n",
    "fun simulateBinomialDemand(forecast: List<Double>, trials: Int = 50): List<Int> {\n",
    "    return forecast.map { f ->\n",
    "        val probability = minOf(f.toDouble() / trials, 1.0)\n",
    "        generateBinomial(trials, probability)\n",
    "    }\n",
    "}\n",
    "\n",
    "// Test them\n",
    "val forecast = listOf(32.83, 26.12, 23.48, 22.57, 23.14, 24.68, 26.13, 28.89, 23.35, 20.99, 20.18, 20.68, 22.04, 23.30)\n",
    "\n",
    "val poissonResult = simulatePoissonDemand(forecast)\n",
    "println(\"Poisson simulation results:\")\n",
    "println(\"Forecast: $forecast\")\n",
    "println(\"Poisson:  $poissonResult\")\n",
    "\n",
    "val binomialResult = simulateBinomialDemand(forecast, trials = 50)\n",
    "println(\"\\nBinomial simulation results:\")\n",
    "println(\"Forecast: $forecast\")\n",
    "println(\"Binomial: $binomialResult\")"
   ],
   "outputs": [
    {
     "name": "stdout",
     "output_type": "stream",
     "text": [
      "Poisson simulation results:\r\n",
      "Forecast: [32.83, 26.12, 23.48, 22.57, 23.14, 24.68, 26.13, 28.89, 23.35, 20.99, 20.18, 20.68, 22.04, 23.3]\r\n",
      "Poisson:  [29, 36, 19, 27, 22, 23, 25, 28, 24, 24, 15, 19, 21, 25]\r\n",
      "\n",
      "Binomial simulation results:\r\n",
      "Forecast: [32.83, 26.12, 23.48, 22.57, 23.14, 24.68, 26.13, 28.89, 23.35, 20.99, 20.18, 20.68, 22.04, 23.3]\r\n",
      "Binomial: [36, 30, 28, 24, 17, 23, 25, 30, 23, 21, 21, 19, 16, 30]\r\n"
     ]
    }
   ],
   "execution_count": 95
  },
  {
   "metadata": {
    "ExecuteTime": {
     "end_time": "2025-06-17T20:05:57.299916300Z",
     "start_time": "2025-06-17T20:05:57.253650800Z"
    }
   },
   "cell_type": "code",
   "source": [
    "fun compareSimulations(forecast: List<Double>, trials: Int = 50, numRuns: Int = 3) {\n",
    "    println(\"\\nComparing Poisson vs Binomial simulations ($numRuns runs):\")\n",
    "    println(\"Forecast: $forecast\")\n",
    "    println(\"-\".repeat(80))\n",
    "\n",
    "    repeat(numRuns) { run ->\n",
    "        val poissonResult = simulatePoissonDemand(forecast)\n",
    "        val binomialResult = simulateBinomialDemand(forecast, trials)\n",
    "\n",
    "        println(\"Run ${run + 1}:\")\n",
    "        println(\"  Poisson:  $poissonResult\")\n",
    "        println(\"  Binomial: $binomialResult\")\n",
    "        println()\n",
    "    }\n",
    "}\n",
    "\n",
    "// Test it\n",
    "val forecast = listOf(32.83, 26.12, 23.48, 22.57, 23.14, 24.68, 26.13, 28.89, 23.35, 20.99, 20.18, 20.68, 22.04, 23.30)\n",
    "compareSimulations(forecast, trials = 50, numRuns = 3)"
   ],
   "outputs": [
    {
     "name": "stdout",
     "output_type": "stream",
     "text": [
      "\n",
      "Comparing Poisson vs Binomial simulations (3 runs):\r\n",
      "Forecast: [32.83, 26.12, 23.48, 22.57, 23.14, 24.68, 26.13, 28.89, 23.35, 20.99, 20.18, 20.68, 22.04, 23.3]\r\n",
      "--------------------------------------------------------------------------------\r\n",
      "Run 1:\r\n",
      "  Poisson:  [30, 15, 23, 28, 21, 26, 39, 25, 25, 25, 24, 16, 24, 22]\r\n",
      "  Binomial: [36, 20, 27, 24, 23, 26, 23, 30, 21, 20, 25, 19, 25, 22]\r\n",
      "\r\n",
      "Run 2:\r\n",
      "  Poisson:  [24, 22, 20, 29, 30, 15, 24, 26, 25, 17, 21, 22, 20, 19]\r\n",
      "  Binomial: [24, 28, 29, 22, 24, 21, 28, 30, 16, 22, 19, 18, 21, 20]\r\n",
      "\r\n",
      "Run 3:\r\n",
      "  Poisson:  [38, 29, 24, 27, 23, 26, 21, 25, 18, 10, 21, 25, 29, 22]\r\n",
      "  Binomial: [28, 24, 26, 22, 21, 31, 31, 30, 21, 23, 23, 26, 18, 18]\r\n",
      "\r\n"
     ]
    }
   ],
   "execution_count": 96
  },
  {
   "metadata": {
    "ExecuteTime": {
     "end_time": "2025-06-17T20:06:02.934176200Z",
     "start_time": "2025-06-17T20:06:02.830979900Z"
    }
   },
   "cell_type": "code",
   "source": [
    "// Extension function for standard deviation (needed for analysis)\n",
    "fun List<Int>.standardDeviation(): Double {\n",
    "    val mean = this.average()\n",
    "    val variance = this.map { (it - mean) * (it - mean) }.average()\n",
    "    return kotlin.math.sqrt(variance)\n",
    "}\n",
    "\n",
    "// Lighter analysis function (fewer runs for notebook)\n",
    "fun lightAnalyzeSimulations(forecast: List<Double>, trials: Int = 10, numRuns: Int = 100) {\n",
    "    println(\"\\nLight Statistical Analysis ($numRuns runs):\")\n",
    "    println(\"=\".repeat(50))\n",
    "\n",
    "    // Store results\n",
    "    val poissonErrors = mutableListOf<Double>()\n",
    "    val binomialErrors = mutableListOf<Double>()\n",
    "    val poissonTotals = mutableListOf<Int>()\n",
    "    val binomialTotals = mutableListOf<Int>()\n",
    "\n",
    "    // Run simulations\n",
    "    repeat(numRuns) {\n",
    "        val poissonResult = simulatePoissonDemand(forecast)\n",
    "        val binomialResult = simulateBinomialDemand(forecast, trials)\n",
    "\n",
    "        // Calculate errors\n",
    "        val poissonError = poissonResult.zip(forecast) { p, f -> kotlin.math.abs(p - f) }.sum()\n",
    "        val binomialError = binomialResult.zip(forecast) { b, f -> kotlin.math.abs(b - f) }.sum()\n",
    "\n",
    "        poissonErrors.add(poissonError)\n",
    "        binomialErrors.add(binomialError)\n",
    "        poissonTotals.add(poissonResult.sum())\n",
    "        binomialTotals.add(binomialResult.sum())\n",
    "    }\n",
    "\n",
    "    // Calculate and display results\n",
    "    val forecastTotal = forecast.sum()\n",
    "\n",
    "    println(\"Original forecast total: $forecastTotal\")\n",
    "    println()\n",
    "\n",
    "    println(\"POISSON RESULTS:\")\n",
    "    println(\"  Average total demand: ${\"%.2f\".format(poissonTotals.average())}\")\n",
    "    println(\"  Average absolute error: ${\"%.2f\".format(poissonErrors.average())}\")\n",
    "\n",
    "    println()\n",
    "\n",
    "    println(\"BINOMIAL RESULTS:\")\n",
    "    println(\"  Average total demand: ${\"%.2f\".format(binomialTotals.average())}\")\n",
    "    println(\"  Average absolute error: ${\"%.2f\".format(binomialErrors.average())}\")\n",
    "\n",
    "    println()\n",
    "\n",
    "    // Comparison\n",
    "    val binomialBetter = poissonErrors.zip(binomialErrors) { p, b -> b < p }.count { it }\n",
    "    val poissonBetter = numRuns - binomialBetter\n",
    "\n",
    "    println(\"COMPARISON:\")\n",
    "    println(\"  Binomial more accurate: $binomialBetter/$numRuns times (${\"%.1f\".format(binomialBetter.toDouble() / numRuns * 100)}%)\")\n",
    "    println(\"  Poisson more accurate: $poissonBetter/$numRuns times (${\"%.1f\".format(poissonBetter.toDouble() / numRuns * 100)}%)\")\n",
    "\n",
    "    if (poissonErrors.average() < binomialErrors.average()) {\n",
    "        println(\"  Winner: Poisson (lower average error)\")\n",
    "    } else {\n",
    "        println(\"  Winner: Binomial (lower average error)\")\n",
    "    }\n",
    "}\n",
    "\n",
    "// Test the analysis\n",
    "val forecast = listOf(32.83,26.12,23.48,22.57,23.14,24.68,26.13,28.89,23.35,20.99,20.18,20.68,22.04,23.30)\n",
    "lightAnalyzeSimulations(forecast, trials = 100, numRuns = 100)"
   ],
   "outputs": [
    {
     "name": "stdout",
     "output_type": "stream",
     "text": [
      "\n",
      "Light Statistical Analysis (100 runs):\r\n",
      "==================================================\r\n",
      "Original forecast total: 338.38\r\n",
      "\r\n",
      "POISSON RESULTS:\r\n",
      "  Average total demand: 339.14\r\n",
      "  Average absolute error: 54.62\r\n",
      "\r\n",
      "BINOMIAL RESULTS:\r\n",
      "  Average total demand: 336.67\r\n",
      "  Average absolute error: 48.09\r\n",
      "\r\n",
      "COMPARISON:\r\n",
      "  Binomial more accurate: 67/100 times (67.0%)\r\n",
      "  Poisson more accurate: 33/100 times (33.0%)\r\n",
      "  Winner: Binomial (lower average error)\r\n"
     ]
    }
   ],
   "execution_count": 97
  }
 ],
 "metadata": {
  "kernelspec": {
   "display_name": "Kotlin",
   "language": "kotlin",
   "name": "kotlin"
  },
  "language_info": {
   "name": "kotlin",
   "version": "1.9.23",
   "mimetype": "text/x-kotlin",
   "file_extension": ".kt",
   "pygments_lexer": "kotlin",
   "codemirror_mode": "text/x-kotlin",
   "nbconvert_exporter": ""
  }
 },
 "nbformat": 4,
 "nbformat_minor": 0
}
